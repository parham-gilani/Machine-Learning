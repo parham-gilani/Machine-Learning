{
  "cells": [
    {
      "cell_type": "markdown",
      "metadata": {
        "id": "VizStk3frtlM"
      },
      "source": [
        "\n",
        "\n",
        "<br>\n",
        "<font>\n",
        "<div dir=ltr align=center>\n",
        "<img src=\"https://cdn.freebiesupply.com/logos/large/2x/sharif-logo-png-transparent.png\" width=150 height=150> <br>\n",
        "<font color=0F5298 size=7>\n",
        "Introduction to Machine Learning - 25732  <br>\n",
        "<font color=2565AE size=5>\n",
        "Department of Electrical Enginnering <br>\n",
        "Fall 2024<br>\n",
        "<font color=3C99D size=5>\n",
        "Dr. Mohammad Hossein Yassaee <br>\n",
        "<font color=696880 size=4>\n",
        "Zahra Maleki\n",
        "\n",
        "\n",
        "____\n",
        "\n"
      ]
    },
    {
      "cell_type": "markdown",
      "metadata": {
        "id": "3wB7yZ3SrtlN"
      },
      "source": [
        "\n",
        "### Information:\n",
        "\n",
        "1.   Full Name: Parham Gilani\n",
        "2.   Student Number: 400101859\n",
        "\n",
        "---\n",
        "\n",
        "*I. You are just allowded to change those parts that start with \"TO DO\". Please do not change other parts.*\n",
        "\n",
        "*II. It is highly recommended to read each codeline carefully and try to understand what it exactly does.*\n",
        "\n",
        "*III. Do not copy codes completely from internet sources such as Chat-GPT or etc. If you are using any sources, please put its link in the beging of the block.*\n",
        "\n",
        "If you have any question you can contact related TAs:\n",
        " - Homeworks coordinator: @danialayati\n",
        " - This Notebook: @Rosebaekfany\n",
        "\n",
        " Best of luck and have fun!\n",
        "\n",
        "---"
      ]
    },
    {
      "cell_type": "code",
      "execution_count": 1,
      "metadata": {},
      "outputs": [],
      "source": [
        "from ipywidgets import interact\n",
        "import numpy as np\n",
        "import matplotlib.pyplot as plt\n",
        "import torch\n",
        "from functools import partial\n",
        "import torch\n",
        "import torch.nn as nn\n",
        "import torch.optim as optim"
      ]
    },
    {
      "cell_type": "markdown",
      "metadata": {
        "id": "xxTsiHOZrtlO"
      },
      "source": [
        "## Introduction"
      ]
    },
    {
      "cell_type": "markdown",
      "metadata": {
        "id": "9nLQh7nurtlO"
      },
      "source": [
        "## Fitting a function with *gradient descent*\n",
        "We'll be using *numpy* and *pytorch* for array calculations in this notebook.\n",
        "A neural network is just a mathematical function. In the most standard kind of neural network, the function:\n",
        "\n",
        "1. Multiplies each input by a number of values. These values are known as *parameters*\n",
        "1. Adds them up for each group of values\n",
        "1. Replaces the negative numbers with zeros\n",
        "\n",
        "This represents one \"layer\". Then these three steps are repeated, using the outputs of the previous layer as the inputs to the next layer. Initially, the parameters in this function are selected randomly. Therefore a newly created neural network doesn't do anything useful at all -- it's just random!\n",
        "\n",
        "To get the function to \"learn\" to do something useful, we have to change the parameters to make them \"better\" in some way. We do this using *gradient descent*. Let's see how this works..."
      ]
    },
    {
      "cell_type": "code",
      "execution_count": 2,
      "metadata": {
        "id": "zfbX4PZMrtlO"
      },
      "outputs": [],
      "source": [
        "plt.rc('figure', dpi=90)\n",
        "\n",
        "def plot_function(f, title=None, min=-2.1, max=2.1, color='r', ylim=None):\n",
        "    x = torch.linspace(min,max, 100)[:,None]\n",
        "    if ylim: plt.ylim(ylim)\n",
        "    plt.plot(x, f(x), color)\n",
        "    if title is not None: plt.title(title)"
      ]
    },
    {
      "cell_type": "markdown",
      "metadata": {
        "id": "gQA3Sw1ErtlP"
      },
      "source": [
        "To learn how gradient descent works, we're going to start by fitting a quadratic, since that's a function most of us are probably more familiar with than a neural network. Here's the quadratic we're going to try to fit:\n",
        "\n",
        "Write a Python function that represents the quadratic equation \\( f(x) = 3x^2 + 2x + 1 \\), and then create a plot of this function labeled with its mathematical representation."
      ]
    },
    {
      "cell_type": "code",
      "execution_count": 3,
      "metadata": {
        "colab": {
          "base_uri": "https://localhost:8080/",
          "height": 407
        },
        "id": "cni_nvpYrtlP",
        "outputId": "9727ce82-1817-4ead-8227-9a459e0b9784"
      },
      "outputs": [
        {
          "data": {
            "image/png": "[encoded data removed]",
            "text/plain": [
              "<Figure size 576x432 with 1 Axes>"
            ]
          },
          "metadata": {},
          "output_type": "display_data"
        }
      ],
      "source": [
        "# Define the quadratic function\n",
        "def f(x):\n",
        "    return 3 * x**2 + 2 * x + 1\n",
        "\n",
        "# Plot the quadratic function\n",
        "plot_function(f)\n",
        "plt.xlabel(\"$x$\")\n",
        "plt.ylabel(\"$f(x)$\")\n",
        "plt.grid(True)\n",
        "plt.show()"
      ]
    },
    {
      "cell_type": "markdown",
      "metadata": {
        "id": "CuM-M-tartlP"
      },
      "source": [
        "This quadratic is of the form $ax^2+bx+c$, with parameters $a=3$, $b=2$, $c=1$. To make it easier to try out different quadratics for fitting a model to the data we'll create, Now create a function that calculates the value of a point on any quadratic:"
      ]
    },
    {
      "cell_type": "code",
      "execution_count": 4,
      "metadata": {
        "colab": {
          "base_uri": "https://localhost:8080/"
        },
        "id": "Jf-59ZUBrtlP",
        "outputId": "496c5754-4e06-48b7-98af-0c4d4edc964e"
      },
      "outputs": [],
      "source": [
        "def quadratic_value(x, a, b, c):\n",
        "    return a * x**2 + b * x + c"
      ]
    },
    {
      "cell_type": "markdown",
      "metadata": {
        "id": "Wwi7VCDdrtlQ"
      },
      "source": [
        "If we fix some particular values of a, b, and c, then we'll have made a quadratic. To fix values passed to a function in python, we use the `partial` function, like so:"
      ]
    },
    {
      "cell_type": "code",
      "execution_count": 5,
      "metadata": {
        "id": "opoimn1srtlQ"
      },
      "outputs": [],
      "source": [
        "def mk_quad(a,b,c):\n",
        "    return partial(quadratic_value, a=a, b=b, c=c)"
      ]
    },
    {
      "cell_type": "code",
      "execution_count": 6,
      "metadata": {
        "colab": {
          "base_uri": "https://localhost:8080/",
          "height": 389
        },
        "id": "nz7UBA9OrtlQ",
        "outputId": "3077ee35-d7b2-4ce5-eb9a-1806dbc61399"
      },
      "outputs": [
        {
          "data": {
            "image/png": "[encoded data removed]",
            "text/plain": [
              "<Figure size 576x432 with 1 Axes>"
            ]
          },
          "metadata": {},
          "output_type": "display_data"
        }
      ],
      "source": [
        "f2 = mk_quad(3,2,1)\n",
        "plot_function(f2)"
      ]
    },
    {
      "cell_type": "markdown",
      "metadata": {
        "id": "703mug_grtlQ"
      },
      "source": [
        "Now let's simulate making some noisy measurements of our quadratic `f`. We'll then use gradient descent to see if we can recreate the original function from the data.\n",
        "\n",
        "write down a couple of functions to add some random noise to data:"
      ]
    },
    {
      "cell_type": "code",
      "execution_count": 7,
      "metadata": {
        "id": "vxu0NSllrtlQ"
      },
      "outputs": [],
      "source": [
        "def noise(x, scale): return np.random.randn(*np.shape(x)) * scale\n",
        "def add_noise(x, mult, add): return x * (1 + noise(x, mult)) + noise(x, add)"
      ]
    },
    {
      "cell_type": "markdown",
      "metadata": {
        "id": "fw83U31hrtlQ"
      },
      "source": [
        "Let's use the now to create our noisy measurements based on the quadratic above:"
      ]
    },
    {
      "cell_type": "code",
      "execution_count": 8,
      "metadata": {
        "id": "LdEZp_tqrtlQ"
      },
      "outputs": [],
      "source": [
        "np.random.seed(42)\n",
        "\n",
        "x = torch.linspace(-2, 2, steps=20)[:,None]\n",
        "y = add_noise(f(x), 0.15, 1.5)"
      ]
    },
    {
      "cell_type": "markdown",
      "metadata": {
        "id": "NfDAEb77rtlQ"
      },
      "source": [
        "show the first few values of each of `x` and `y`:"
      ]
    },
    {
      "cell_type": "code",
      "execution_count": 9,
      "metadata": {
        "colab": {
          "base_uri": "https://localhost:8080/"
        },
        "id": "naPBT8QjrtlQ",
        "outputId": "625e18b0-4511-468a-af5f-d61ee8faf170"
      },
      "outputs": [
        {
          "name": "stdout",
          "output_type": "stream",
          "text": [
            "x[ 0 ] =  tensor([-2.])\n",
            "y[ 0 ] =  tensor([11.8690], dtype=torch.float64)\n",
            "x[ 1 ] =  tensor([-1.7895])\n",
            "y[ 1 ] =  tensor([6.5433], dtype=torch.float64)\n",
            "x[ 2 ] =  tensor([-1.5789])\n",
            "y[ 2 ] =  tensor([5.9396], dtype=torch.float64)\n",
            "x[ 3 ] =  tensor([-1.3684])\n",
            "y[ 3 ] =  tensor([2.6304], dtype=torch.float64)\n",
            "x[ 4 ] =  tensor([-1.1579])\n",
            "y[ 4 ] =  tensor([1.7947], dtype=torch.float64)\n"
          ]
        }
      ],
      "source": [
        "for i in range(0,5):\n",
        "  print(\"x[\",i,\"] = \",x[i])\n",
        "  print(\"y[\",i,\"] = \",y[i])"
      ]
    },
    {
      "cell_type": "markdown",
      "metadata": {
        "id": "U8fC91AHrtlQ"
      },
      "source": [
        "As you can see, they're *tensors*. A tensor is just like an `array` in numpy. Furthermore, PyTorch, which most researchers use for deep learning, is modeled closely on numpy.) A tensor can be a single number (a *scalar* or *rank-0 tensor*), a list of numbers (a *vector* or *rank-1 tensor*), a table of numbers (a *matrix* or *rank-2 tensor*), a table of tables of numbers (a *rank-3 tensor*), and so forth.\n",
        "\n",
        "We're not going to learn much about our data by just looking at the raw numbers, so let's draw a picture:"
      ]
    },
    {
      "cell_type": "code",
      "execution_count": 10,
      "metadata": {
        "colab": {
          "base_uri": "https://localhost:8080/",
          "height": 389
        },
        "id": "FgcCr2UErtlQ",
        "outputId": "fd25f9bc-36e0-4fbe-a62a-1dae16f21ac1"
      },
      "outputs": [
        {
          "data": {
            "image/png": "[encoded data removed]",
            "text/plain": [
              "<Figure size 576x432 with 1 Axes>"
            ]
          },
          "metadata": {},
          "output_type": "display_data"
        }
      ],
      "source": [
        "plt.scatter(x,y);"
      ]
    },
    {
      "cell_type": "markdown",
      "metadata": {
        "id": "Jk3A-vvRrtlR"
      },
      "source": [
        "How do we find values of a, b, and c which fit this data? One approach is to try a few values and see what fits. Here's a function which overlays a quadratic on top of our data, along with some sliders to change a, b, and c, and see how it looks:"
      ]
    },
    {
      "cell_type": "code",
      "execution_count": 11,
      "metadata": {
        "colab": {
          "base_uri": "https://localhost:8080/",
          "height": 606,
          "referenced_widgets": [
            "7e1e47b107e346dd916a18f9cbe60eaa",
            "c3e5e5fecd274f9caa15880f7e89a998",
            "07e6010067054a5d83317d52aaa218bb",
            "f0ed456bd7ce401b8a268d54be97cb9e",
            "e7e673692f7e456c9716b12c10f7a346",
            "749e62427cef4fa3a96dbeed0aceabdf",
            "15b23431ed504f37b806182c58cae689",
            "1e9df76cd2e848e88fca296667fe34f2",
            "7951666b490645cf8000f3b37dac58cb",
            "3d7ce34c0bbb43b1a6289f081f83daf4",
            "671bab200b074eaa9196cb5018b985b7",
            "8ba2583dd6384d0b9cc925c123661a57",
            "5c144613c99e472bb504420608a0011d"
          ]
        },
        "id": "bsX9sGn6rtlR",
        "outputId": "cbe9fe88-e76e-40f6-a7a5-9c565124ac26"
      },
      "outputs": [
        {
          "data": {
            "application/vnd.jupyter.widget-view+json": {
              "model_id": "82da43dd56b84152b2a0e545cd457745",
              "version_major": 2,
              "version_minor": 0
            },
            "text/plain": [
              "interactive(children=(FloatSlider(value=3.0, description='a', max=10.0, min=-10.0), FloatSlider(value=2.0, des…"
            ]
          },
          "metadata": {},
          "output_type": "display_data"
        }
      ],
      "source": [
        "@interact(a=(-10.0, 10.0, 0.1), b=(-10.0, 10.0, 0.1), c=(-10.0, 10.0, 0.1))\n",
        "def plot_quad(a=3, b=2, c=1):\n",
        "    plt.figure(figsize=(8, 6))\n",
        "    plt.scatter(x.numpy(), y.numpy(), label=\"Data\", color=\"blue\")  # Plot data points\n",
        "    y_pred = a * x**2 + b * x + c  # Quadratic function\n",
        "    plt.plot(x.numpy(), y_pred.numpy(), label=f\"y = {a:.1f}x² + {b:.1f}x + {c:.1f}\", color=\"red\")\n",
        "    plt.xlabel(\"x\")\n",
        "    plt.ylabel(\"y\")\n",
        "    plt.title(\"Fitting a Quadratic Function\")\n",
        "    plt.legend()\n",
        "    plt.grid(True)\n",
        "    plt.show()"
      ]
    },
    {
      "cell_type": "markdown",
      "metadata": {
        "id": "wvx8WyezrtlR"
      },
      "source": [
        "Try moving slider `a` a bit to the left. Does that look better or worse? How about if you move it a bit to the right? Find out which direction seems to improve the fit of the quadratic to the data, and move the slider a bit in that direction. Next, do the same for slider `b`: first figure out which direction improves the fit, then move it a bit in that direction. Then do the same for `c`.\n",
        "\n",
        "OK, now go back to slider `a` and repeat the process. Do it again for `b` and `c` as well.\n",
        "\n",
        "Did you notice that by going back and doing the sliders a second time that you were able to improve things a bit further? That's an important insight -- it's only after changing `b` and `c`, for instance, that you realise that `a` actually needs some adjustment based on those new values.\n",
        "\n",
        "One thing that's making this tricky is that we don't really have a great sense of whether our fit is really better or worse. It would be easier if we had a numeric measure of that. On easy metric we could use is *mean absolute error* -- which is the distance from each data point to the curve:"
      ]
    },
    {
      "cell_type": "markdown",
      "metadata": {
        "id": "snizH6YurtlR"
      },
      "source": [
        "Answer:\n",
        "\n",
        "1. **Adjusting Slider (a):**\n",
        "   - Start by moving the \\(a\\) slider to the left and observe the curve. Does it look better or worse? Moving \\(a\\) to the left makes the curve less steep (flatter), while moving it to the right increases the steepness.\n",
        "   - Find which direction improves the fit and move the slider slightly in that direction to refine the model.\n",
        "\n",
        "2. **Adjusting Slider \\(b\\):**\n",
        "   - Once \\(a\\) is adjusted, move to the \\(b\\) slider. Changing \\(b\\) will affect the horizontal position and slope of the parabola.\n",
        "   - Move the slider to the left or right and observe how it affects the fit. Again, choose the direction that improves the match between the quadratic curve and the data.\n",
        "\n",
        "3. **Adjusting Slider \\(c\\):**\n",
        "   - After adjusting \\(a\\) and \\(b\\), move on to \\(c\\). This parameter shifts the curve vertically.\n",
        "   - Move the slider up or down and see which direction better aligns the curve with the data points.\n",
        "\n",
        "4. **Revisiting \\(a\\), \\(b\\), and \\(c\\):**\n",
        "   - After adjusting all three sliders, return to \\(a\\) and refine it based on the new values of \\(b\\) and \\(c\\).\n",
        "   - Repeat the same process for \\(b\\) and \\(c\\) to further fine-tune the fit. Each time you adjust one parameter, the others might need further adjustment.\n",
        "\n",
        "When you adjust \\(a\\), \\(b\\), and \\(c\\) sequentially and then revisit them after making changes to the others, you often find that further refinement is possible.\n",
        "\n",
        "The reason for this is that the parameters are interdependent. For instance:\n",
        "- Changing \\(b\\) or \\(c\\) can shift the curve in ways that reveal that \\(a\\) needs further adjustment to better align with the data.\n",
        "- Similarly, after adjusting \\(a\\), you may realize that \\(b\\) or \\(c\\) needs to be adjusted to fine-tune the fit.\n",
        "\n",
        "This iterative process, where you go back and adjust each parameter after modifying the others, helps to progressively improve the fit. It also illustrates that parameter optimization isn't always a one-step process — sometimes you need to tweak them multiple times, refining one based on the changes made to the others."
      ]
    },
    {
      "cell_type": "code",
      "execution_count": 12,
      "metadata": {
        "id": "BYQEKF1trtlR"
      },
      "outputs": [],
      "source": [
        "def mae(preds, acts):\n",
        "    if isinstance(acts, torch.Tensor) and isinstance(preds, torch.Tensor):\n",
        "      return torch.mean(torch.abs(preds - acts))\n",
        "\n",
        "    return np.mean(np.abs(preds - acts))"
      ]
    },
    {
      "cell_type": "markdown",
      "metadata": {
        "id": "H3W-a0n7rtlR"
      },
      "source": [
        "We'll update our interactive function to print this at the top for us.\n",
        "\n",
        "Use this to repeat the approach we took before to try to find the best fit, but this time just use the value of the metric to decide which direction to move each slider, and how far to move it.\n",
        "\n",
        "This time around, try doing it in the opposite order: `c`, then `b`, then `a`.\n",
        "\n",
        "You'll probably find that you have to go through the set of sliders a couple of times to get the best fit."
      ]
    },
    {
      "cell_type": "code",
      "execution_count": 13,
      "metadata": {
        "colab": {
          "base_uri": "https://localhost:8080/",
          "height": 1000,
          "referenced_widgets": [
            "35baf08208a548b9a33b3813b42658cb",
            "eeb2bc2228dd48c1bd3b7f131e7df6ab",
            "9772ae1f97574e77acb4a21fe933cf44",
            "06245132803a43d5a0ea716991eb1806",
            "8d6531c25ef0471ba2dfb8add6e37288",
            "52422af89e7a48098660c71009677779",
            "51ef4c7cdb154cc2a99799813e980f93",
            "45f28c347ff941838c4a8020d38b973d",
            "53c03ff11af041e4b1a0f66d23d83874",
            "315c6e94537f46b28372fdfae46691fc",
            "2503b80044844f1097887a07cacbc940",
            "4e8122f8b0224273b936c294c8dd8ca7",
            "1c2c5ff6201d4be9a2aa6b485f1e8d88"
          ]
        },
        "id": "CSmBkI7CrtlR",
        "outputId": "fb1155fe-d452-4190-e964-e994a8b6febc"
      },
      "outputs": [
        {
          "data": {
            "application/vnd.jupyter.widget-view+json": {
              "model_id": "9ed33d23dc3d4965a1ada945bd7562e5",
              "version_major": 2,
              "version_minor": 0
            },
            "text/plain": [
              "interactive(children=(FloatSlider(value=3.0, description='a', max=10.0, min=-10.0), FloatSlider(value=1.5, des…"
            ]
          },
          "metadata": {},
          "output_type": "display_data"
        }
      ],
      "source": [
        "@interact(a=(-10.0, 10.0, 0.1), b=(-10.0, 10.0, 0.1), c=(-10.0, 10.0, 0.1))\n",
        "def plot_quad(a=3, b=1.5, c=-0.5):\n",
        "    f = mk_quad(a,b,c)\n",
        "    plt.scatter(x,y)\n",
        "    loss = mae(f(x), y)\n",
        "    plot_function(f, ylim=(-3,12), title=f\"MAE: {loss:.2f}\")"
      ]
    },
    {
      "cell_type": "markdown",
      "metadata": {
        "id": "fs4dhlRLrtlR"
      },
      "source": [
        "In a modern neural network we'll often have tens of millions of parameters to fit, or more, and thousands or millions of data points to fit them to. We're not going to be able to do that by moving sliders around! We'll need to automate this process.\n",
        "\n",
        "Thankfully, that turns out to be pretty straightforward. We can use calculus to figure out, for each parameter, whether we should increase or decrease it.\n",
        "\n",
        "Uh oh, calculus! If you haven't touched calculus since school, you might be getting ready to run away at this point. But don't worry, we don't actually need much calculus at all. Just derivatives, which measure the rate of change of a function. We don't even need to calculate them ourselves, because the computer will do it for us!"
      ]
    },
    {
      "cell_type": "markdown",
      "metadata": {
        "id": "qnc5Co4ArtlR"
      },
      "source": [
        "## Automating gradient descent\n",
        "The basic idea is this: if we know the *gradient* of our `mae()` function *with respect to* our parameters, `a`, `b`, and `c`, then that means we know how adjusting (for instance) `a` will change the value of `mae()`. If, say, `a` has a *negative* gradient, then we know that increasing `a` will decrease `mae()`. Then we know that's what we need to do, since we trying to make `mae()` as low as possible.\n",
        "\n",
        "So, we find the gradient of `mae()` for each of our parameters, and then adjust our parameters a bit in the *opposite* direction to the sign of the gradient.\n",
        "\n",
        "To do this, first we need a function that takes all the parameters `a`, `b`, and `c` as a single vector input, and returns the value `mae()` based on those parameters:"
      ]
    },
    {
      "cell_type": "code",
      "execution_count": 14,
      "metadata": {
        "id": "jMkoEmzErtlR"
      },
      "outputs": [],
      "source": [
        "def quad_mae(params):\n",
        "    f = mk_quad(*params)\n",
        "    return mae(f(x),y)"
      ]
    },
    {
      "cell_type": "code",
      "execution_count": 15,
      "metadata": {
        "colab": {
          "base_uri": "https://localhost:8080/"
        },
        "id": "QZo6rGB1rtlR",
        "outputId": "6e3f09f4-ff3a-4429-e245-6c931ef44b74"
      },
      "outputs": [
        {
          "data": {
            "text/plain": [
              "tensor(2.4219, dtype=torch.float64)"
            ]
          },
          "execution_count": 15,
          "metadata": {},
          "output_type": "execute_result"
        }
      ],
      "source": [
        "quad_mae([1.1, 1.1, 1.1])"
      ]
    },
    {
      "cell_type": "markdown",
      "metadata": {
        "id": "bFkWOLP1rtlR"
      },
      "source": [
        "Yup, that's the same as the starting `mae()` we had in our plot before.\n",
        "\n",
        "We're first going to do exactly the same thing as we did manually -- pick some arbritrary starting point for our parameters. We'll put them all into a single tensor.\n",
        "\n",
        "To tell PyTorch that we want it to calculate gradients for these parameters.\n",
        "\n",
        "We can now calculate `mae()`. Generally, when doing gradient descent, the thing we're trying to minimise is called the *loss*:"
      ]
    },
    {
      "cell_type": "code",
      "execution_count": 16,
      "metadata": {
        "id": "jaxJLUbWrtlR"
      },
      "outputs": [
        {
          "name": "stdout",
          "output_type": "stream",
          "text": [
            "tensor(1.4767, dtype=torch.float64, grad_fn=<MeanBackward0>)\n"
          ]
        }
      ],
      "source": [
        "params = torch.tensor([3.0, 2.0, 1.0], requires_grad=True)  # Starting point for the parameters\n",
        "loss = quad_mae(params)\n",
        "print(loss)"
      ]
    },
    {
      "cell_type": "markdown",
      "metadata": {
        "id": "4m7SKc98rtlR"
      },
      "source": [
        "Get PyTorch to now calculate the gradients.\n",
        "\n",
        "The gradients will be stored for us in an attribute called `grad`.\n"
      ]
    },
    {
      "cell_type": "code",
      "execution_count": 17,
      "metadata": {
        "id": "JL5nVUc-rtlR"
      },
      "outputs": [
        {
          "name": "stdout",
          "output_type": "stream",
          "text": [
            "a, b, c = tensor([0.6693, 0.4211, 0.4000])\n"
          ]
        }
      ],
      "source": [
        "loss.backward()\n",
        "print(\"a, b, c =\",params.grad)"
      ]
    },
    {
      "cell_type": "markdown",
      "metadata": {
        "id": "Dj6MZAaJrtlS"
      },
      "source": [
        "According to these gradients, all our parameters are a little low. So let's increase them a bit. If we subtract the gradient, multiplied by a small number, that should improve them a bit."
      ]
    },
    {
      "cell_type": "code",
      "execution_count": 18,
      "metadata": {
        "id": "D88dUsyrrtlS"
      },
      "outputs": [
        {
          "name": "stdout",
          "output_type": "stream",
          "text": [
            "loss=1.40\n"
          ]
        }
      ],
      "source": [
        "learning_rate = 0.1\n",
        "with torch.no_grad():\n",
        "    params -= learning_rate * params.grad\n",
        "loss = quad_mae(params)\n",
        "print(f'loss={loss:.2f}')"
      ]
    },
    {
      "cell_type": "markdown",
      "metadata": {
        "id": "q1AvkA9ertlS"
      },
      "source": [
        "Yes, our loss has gone down!\n",
        "\n",
        "The \"small number\" we multiply is called the *learning rate*, and is the most important *hyper-parameter* to set when training a neural network.\n",
        "\n",
        "We can use a loop to do a few more iterations of this:"
      ]
    },
    {
      "cell_type": "code",
      "execution_count": 19,
      "metadata": {
        "id": "C0ws-Y4LrtlS"
      },
      "outputs": [
        {
          "data": {
            "image/png": "[encoded data removed]",
            "text/plain": [
              "<Figure size 1260x630 with 1 Axes>"
            ]
          },
          "metadata": {},
          "output_type": "display_data"
        },
        {
          "data": {
            "image/png": "[encoded data removed]",
            "text/plain": [
              "<Figure size 1260x630 with 1 Axes>"
            ]
          },
          "metadata": {},
          "output_type": "display_data"
        }
      ],
      "source": [
        "# Initialize parameters\n",
        "params = torch.tensor([3.0, 2.0, 1.0], requires_grad=True)\n",
        "\n",
        "# Set learning rate and optimizer\n",
        "learning_rate = 0.1\n",
        "optimizer = torch.optim.SGD([params], lr=learning_rate)\n",
        "\n",
        "# Learning rate scheduler\n",
        "scheduler = torch.optim.lr_scheduler.StepLR(optimizer, step_size=5, gamma=0.1)\n",
        "\n",
        "# Training setup\n",
        "num_epochs = 100\n",
        "losses = []\n",
        "\n",
        "# Training loop\n",
        "for epoch in range(num_epochs):\n",
        "    # Compute loss\n",
        "    loss = quad_mae(params)\n",
        "\n",
        "    # Backpropagation\n",
        "    optimizer.zero_grad()\n",
        "    loss.backward()\n",
        "    optimizer.step()\n",
        "    scheduler.step()\n",
        "\n",
        "    # Store loss\n",
        "    losses.append(loss.item())\n",
        "\n",
        "# Plot the loss over epochs\n",
        "plt.figure(figsize=(14,7))\n",
        "plt.plot(losses)\n",
        "plt.xlabel('Epoch')\n",
        "plt.ylabel('Loss')\n",
        "plt.title('Loss During Training')\n",
        "\n",
        "# Create and plot the quadratic function\n",
        "plt.figure(figsize=(14,7))\n",
        "f = mk_quad(params[0], params[1], params[2])\n",
        "plt.scatter(x, y)\n",
        "loss = mae(f(x), y)\n",
        "plt.plot(\n",
        "    x.detach().numpy(),\n",
        "    f(x).detach().numpy(),\n",
        "    label=f'$f(x) = {params[0]:.2f}x^2 + {params[1]:.2f}x + {params[2]:.2f}$',\n",
        "    color='red'\n",
        ")\n",
        "plt.axhline(0, color='black', linewidth=0.5, linestyle='--')\n",
        "plt.axvline(0, color='black', linewidth=0.5, linestyle='--')\n",
        "plt.title(f\"Interactive Quadratic Function Plot with Loss: {loss:.2f}\")\n",
        "plt.xlabel(\"x\")\n",
        "plt.ylabel(\"f(x)\")\n",
        "plt.legend()\n",
        "plt.grid(True)\n",
        "plt.show()\n"
      ]
    },
    {
      "cell_type": "markdown",
      "metadata": {
        "id": "Qqc7UEFTrtlW"
      },
      "source": [
        "As you can see, our loss keeps going down!\n",
        "\n",
        "If you keep running this loop for long enough however, you'll see that the loss eventually starts increasing for a while. That's because once the parameters get close to the correct answer, our parameter updates will jump right over the correct answer! To avoid this, we need to decrease our learning rate as we train. This is done using a *learning rate schedule*, and can be automated in most deep learning frameworks, such as fastai and PyTorch."
      ]
    },
    {
      "cell_type": "markdown",
      "metadata": {
        "id": "7_XTs70UrtlW"
      },
      "source": [
        "## How a neural network approximates any given function\n",
        "\n",
        "But neural nets are much more convenient and powerful than this example showed, because we can learn much more than just a quadratic with them. How does *that* work?\n",
        "\n",
        "\n",
        "The trick is that a neural network is a very expressive function. A neural network can approximate any computable function, given enough parameters. A \"computable function\" can cover just about anything you can imagine: understand and translate human speech; paint a picture; diagnose a disease from medical imaging; write an essay; etc...\n",
        "\n",
        "The way a neural network approximates a function actually turns out to be very simple. The key trick is to combine two extremely basic steps:\n",
        "\n",
        "1. Matrix multiplication, which is just multiplying things together and then adding them up\n",
        "1. The function $max(x,0)$, which simply replaces all negative numbers with zero.\n",
        "\n",
        "The combination of a linear function and this *max()* is called a *rectified linear function*."
      ]
    },
    {
      "cell_type": "code",
      "execution_count": 20,
      "metadata": {
        "id": "ZQrms1SqrtlW"
      },
      "outputs": [],
      "source": [
        "def rectified_linear(m,b,x):\n",
        "    y = m*x + b\n",
        "    return torch.maximum(torch.tensor(0.0),y)"
      ]
    },
    {
      "cell_type": "code",
      "execution_count": 21,
      "metadata": {
        "id": "uFwL2DDhrtlX"
      },
      "outputs": [
        {
          "data": {
            "image/png": "[encoded data removed]",
            "text/plain": [
              "<Figure size 576x432 with 1 Axes>"
            ]
          },
          "metadata": {},
          "output_type": "display_data"
        }
      ],
      "source": [
        "plot_function(partial(rectified_linear, 1,1))"
      ]
    },
    {
      "cell_type": "markdown",
      "metadata": {
        "id": "T0dkm4N9rtlX"
      },
      "source": [
        "we can instead use `relu(x)`, which does exactly the same thing."
      ]
    },
    {
      "cell_type": "code",
      "execution_count": 22,
      "metadata": {
        "id": "3LGuGQtNrtlX"
      },
      "outputs": [
        {
          "data": {
            "image/png": "[encoded data removed]",
            "text/plain": [
              "<Figure size 576x432 with 1 Axes>"
            ]
          },
          "metadata": {},
          "output_type": "display_data"
        }
      ],
      "source": [
        "def rectified_linear2(m,b,x):\n",
        "    y = m *x + b\n",
        "    return torch.relu(y)\n",
        "plot_function(partial(rectified_linear2, 1,1))"
      ]
    },
    {
      "cell_type": "markdown",
      "metadata": {
        "id": "OgG4F9YCrtlX"
      },
      "source": [
        "To understand how this function works, try using this interactive version to play around with the parameters `m` and `b`:"
      ]
    },
    {
      "cell_type": "code",
      "execution_count": 23,
      "metadata": {
        "id": "8fCNn5bIrtlX"
      },
      "outputs": [
        {
          "data": {
            "application/vnd.jupyter.widget-view+json": {
              "model_id": "82fede2b7bf8466290e90a3ffba95c1b",
              "version_major": 2,
              "version_minor": 0
            },
            "text/plain": [
              "interactive(children=(FloatSlider(value=1.0, description='m', max=10.0, min=-10.0), FloatSlider(value=1.0, des…"
            ]
          },
          "metadata": {},
          "output_type": "display_data"
        }
      ],
      "source": [
        "#code here\n",
        "@interact(m = (-10,10,0.1) , b = (-10,10,0.1))\n",
        "def plot_relu(m = 1, b = 1):\n",
        "    x = torch.tensor(np.linspace(-2.1,2.1,100))\n",
        "    y = rectified_linear2(m,b,x)\n",
        "    plt.plot(x, y, label=f'Relu', color='blue')\n",
        "    plt.title(f\"Relu interactive function\")\n",
        "    plt.xlabel(\"x\")\n",
        "    plt.ylabel(\"y\")\n",
        "    plt.legend()\n",
        "    plt.show()"
      ]
    },
    {
      "cell_type": "markdown",
      "metadata": {
        "id": "fq-dpvBBrtlX"
      },
      "source": [
        "As you see, `m` changes the slope, and `b` changes where the \"hook\" appears. This function doesn't do much on its own, but look what happens when we add two of them together:"
      ]
    },
    {
      "cell_type": "code",
      "execution_count": 24,
      "metadata": {
        "id": "tMjARWlVrtlX"
      },
      "outputs": [
        {
          "data": {
            "application/vnd.jupyter.widget-view+json": {
              "model_id": "cfad9404a88f47a4ada3e9200fb05e64",
              "version_major": 2,
              "version_minor": 0
            },
            "text/plain": [
              "interactive(children=(FloatSlider(value=1.0, description='m1', max=10.0, min=-10.0), FloatSlider(value=1.0, de…"
            ]
          },
          "metadata": {},
          "output_type": "display_data"
        }
      ],
      "source": [
        "def double_relu(m1,b1,m2,b2,x):\n",
        "    return torch.relu(m1 * x + b1) + torch.relu(m2 * x + b2)\n",
        "\n",
        "@interact(m1 = (-10,10,0.1),m2 = (-10,10,0.1) , b1 = (-10,10,0.1) , b2 = (-10,10,0.1))\n",
        "def plot_double_relu(m1 = 1, b1 = 1, m2 = 1, b2 = 1):\n",
        "    plot_function(partial(double_relu, m1,b1,m2,b2), ylim=(-1,6))"
      ]
    },
    {
      "cell_type": "markdown",
      "metadata": {
        "id": "tpDdL8XGrtlX"
      },
      "source": [
        "If you play around with that for a while, you notice something quite profound: with enough of these rectified linear functions added together, you could approximate any function with a single input, to whatever accuracy you like! Any time the function doesn't quite match, you can just add a few more additions to the mix to make it a bit closer. As an experiment, perhaps you'd like to try creating your own `plot_triple_relu` interactive function, and maybe even include the scatter plot of our data from before, to see how close you can get?\n",
        "\n",
        "This exact same approach can be expanded to functions of 2, 3, or more parameters."
      ]
    },
    {
      "cell_type": "code",
      "execution_count": 25,
      "metadata": {
        "id": "ok7SoL74rtlX"
      },
      "outputs": [
        {
          "data": {
            "application/vnd.jupyter.widget-view+json": {
              "model_id": "be69dae36011467ea242e80e21e15fd2",
              "version_major": 2,
              "version_minor": 0
            },
            "text/plain": [
              "interactive(children=(FloatSlider(value=1.0, description='m1', max=2.0, min=-2.0), FloatSlider(value=0.0, desc…"
            ]
          },
          "metadata": {},
          "output_type": "display_data"
        }
      ],
      "source": [
        "#Bonus\n",
        "def triple_relu(m1, b1, m2, b2, m3, b3, x):\n",
        "    return torch.relu(m1 * x + b1) + torch.relu(m2 * x + b2) + torch.relu(m3 * x + b3)\n",
        "\n",
        "@interact(m1=(-2.0, 2.0, 0.1), b1=(-2.0, 2.0, 0.1), m2=(-2.0, 2.0, 0.1), b2=(-2.0, 2.0, 0.1), m3=(-2.0, 2.0, 0.1), b3=(-2.0, 2.0, 0.1))\n",
        "def plot_triple_relu(m1=1.0, b1=0.0, m2=-1.0, b2=1.0, m3=0.5, b3=-0.5):\n",
        "    # create data\n",
        "    np.random.seed(42)\n",
        "    x = torch.linspace(-2, 2, steps=20)[:,None]\n",
        "    y = add_noise(f(x).detach().numpy(), 0.15, 1.5)\n",
        "    y_pred = triple_relu(m1, b1, m2, b2, m3, b3, x)\n",
        "    plt.scatter(x,y)\n",
        "    loss = mae(y_pred.detach().numpy(),y)\n",
        "    plt.plot(x.detach().numpy(), y_pred.detach().numpy(), label=f'Triple Relu with loss = {loss:.2f}',color='red')\n",
        "    plt.show()"
      ]
    },
    {
      "cell_type": "markdown",
      "metadata": {
        "id": "a6v9wclurtlX"
      },
      "source": [
        "Now put them all together and try to learn the best function that fits your generated data(x,y) using only nueral networks as best as you can.\n",
        "\n",
        "you will see in the future how best is actully defined!"
      ]
    },
    {
      "cell_type": "code",
      "execution_count": 27,
      "metadata": {
        "id": "_-UHC4gYrtlX"
      },
      "outputs": [
        {
          "name": "stdout",
          "output_type": "stream",
          "text": [
            "Final loss = 2.7193763256073\n"
          ]
        },
        {
          "data": {
            "image/png": "[encoded data removed]",
            "text/plain": [
              "<Figure size 1260x630 with 1 Axes>"
            ]
          },
          "metadata": {},
          "output_type": "display_data"
        },
        {
          "data": {
            "image/png": "[encoded data removed]",
            "text/plain": [
              "<Figure size 1260x630 with 1 Axes>"
            ]
          },
          "metadata": {},
          "output_type": "display_data"
        }
      ],
      "source": [
        "# Set random seed for reproducibility\n",
        "torch.manual_seed(42)\n",
        "\n",
        "# Generate data\n",
        "x = torch.linspace(-2, 2, steps=100).reshape(-1, 1)\n",
        "y = add_noise(f(x).detach().numpy(), 0.15, 1.5)\n",
        "\n",
        "# Define the neural network model\n",
        "class SimpleNN(nn.Module):\n",
        "    def __init__(self):\n",
        "        super(SimpleNN, self).__init__()\n",
        "        self.hidden = nn.Linear(1, 10)\n",
        "        self.activation = nn.ReLU()\n",
        "        self.output = nn.Linear(10, 1)\n",
        "\n",
        "    def forward(self, x):\n",
        "        x = self.hidden(x)\n",
        "        x = self.activation(x)\n",
        "        x = self.output(x)\n",
        "        return x\n",
        "\n",
        "# Instantiate the model, loss function, and optimizer\n",
        "model = SimpleNN()\n",
        "criterion = nn.MSELoss()\n",
        "optimizer = optim.SGD(model.parameters(), lr=0.01)\n",
        "\n",
        "# Training settings\n",
        "epochs = 1000\n",
        "losses = []\n",
        "\n",
        "# Convert y to a PyTorch tensor\n",
        "y = torch.tensor(y).float()\n",
        "\n",
        "# Training loop\n",
        "for epoch in range(epochs):\n",
        "    model.train()  # Set model to training mode\n",
        "\n",
        "    # Forward pass\n",
        "    preds = model(x)\n",
        "    loss = criterion(preds, y)\n",
        "\n",
        "    # Store loss\n",
        "    losses.append(loss.item())\n",
        "\n",
        "    # Backpropagation and optimization\n",
        "    optimizer.zero_grad()\n",
        "    loss.backward()\n",
        "    optimizer.step()\n",
        "\n",
        "# Print final loss\n",
        "print(\"Final loss =\",losses[-1])\n",
        "\n",
        "# Plot the loss curve\n",
        "plt.figure(figsize=(14, 7))\n",
        "plt.plot(losses)\n",
        "plt.title(\"Loss Curve\")\n",
        "plt.xlabel(\"Epoch\")\n",
        "plt.ylabel(\"Loss\")\n",
        "\n",
        "# Model evaluation\n",
        "model.eval()  # Set model to evaluation mode\n",
        "with torch.no_grad():\n",
        "    preds = model(x)\n",
        "\n",
        "# Plot the data and model predictions\n",
        "plt.figure(figsize=(14, 7))\n",
        "plt.scatter(x.numpy(), y.numpy(), label=\"Data\")\n",
        "plt.plot(x.numpy(), preds.numpy(), label=\"Model\", color=\"red\")\n",
        "plt.legend()\n",
        "plt.title(\"Data vs Model Predictions\")\n",
        "plt.show()\n"
      ]
    }
  ],
  "metadata": {
    "colab": {
      "provenance": []
    },
    "kernelspec": {
      "display_name": "Python 3",
      "language": "python",
      "name": "python3"
    },
    "language_info": {
      "codemirror_mode": {
        "name": "ipython",
        "version": 3
      },
      "file_extension": ".py",
      "mimetype": "text/x-python",
      "name": "python",
      "nbconvert_exporter": "python",
      "pygments_lexer": "ipython3",
      "version": "3.11.3"
    },
    "widgets": {
      "application/vnd.jupyter.widget-state+json": {
        "06245132803a43d5a0ea716991eb1806": {
          "model_module": "@jupyter-widgets/controls",
          "model_module_version": "1.5.0",
          "model_name": "FloatSliderModel",
          "state": {
            "_dom_classes": [],
            "_model_module": "@jupyter-widgets/controls",
            "_model_module_version": "1.5.0",
            "_model_name": "FloatSliderModel",
            "_view_count": null,
            "_view_module": "@jupyter-widgets/controls",
            "_view_module_version": "1.5.0",
            "_view_name": "FloatSliderView",
            "continuous_update": true,
            "description": "c",
            "description_tooltip": null,
            "disabled": false,
            "layout": "IPY_MODEL_2503b80044844f1097887a07cacbc940",
            "max": 10,
            "min": -10,
            "orientation": "horizontal",
            "readout": true,
            "readout_format": ".2f",
            "step": 0.1,
            "style": "IPY_MODEL_4e8122f8b0224273b936c294c8dd8ca7",
            "value": -0.5
          }
        },
        "07e6010067054a5d83317d52aaa218bb": {
          "model_module": "@jupyter-widgets/controls",
          "model_module_version": "1.5.0",
          "model_name": "FloatSliderModel",
          "state": {
            "_dom_classes": [],
            "_model_module": "@jupyter-widgets/controls",
            "_model_module_version": "1.5.0",
            "_model_name": "FloatSliderModel",
            "_view_count": null,
            "_view_module": "@jupyter-widgets/controls",
            "_view_module_version": "1.5.0",
            "_view_name": "FloatSliderView",
            "continuous_update": true,
            "description": "b",
            "description_tooltip": null,
            "disabled": false,
            "layout": "IPY_MODEL_7951666b490645cf8000f3b37dac58cb",
            "max": 10,
            "min": -10,
            "orientation": "horizontal",
            "readout": true,
            "readout_format": ".2f",
            "step": 0.1,
            "style": "IPY_MODEL_3d7ce34c0bbb43b1a6289f081f83daf4",
            "value": 2
          }
        },
        "15b23431ed504f37b806182c58cae689": {
          "model_module": "@jupyter-widgets/base",
          "model_module_version": "1.2.0",
          "model_name": "LayoutModel",
          "state": {
            "_model_module": "@jupyter-widgets/base",
            "_model_module_version": "1.2.0",
            "_model_name": "LayoutModel",
            "_view_count": null,
            "_view_module": "@jupyter-widgets/base",
            "_view_module_version": "1.2.0",
            "_view_name": "LayoutView",
            "align_content": null,
            "align_items": null,
            "align_self": null,
            "border": null,
            "bottom": null,
            "display": null,
            "flex": null,
            "flex_flow": null,
            "grid_area": null,
            "grid_auto_columns": null,
            "grid_auto_flow": null,
            "grid_auto_rows": null,
            "grid_column": null,
            "grid_gap": null,
            "grid_row": null,
            "grid_template_areas": null,
            "grid_template_columns": null,
            "grid_template_rows": null,
            "height": null,
            "justify_content": null,
            "justify_items": null,
            "left": null,
            "margin": null,
            "max_height": null,
            "max_width": null,
            "min_height": null,
            "min_width": null,
            "object_fit": null,
            "object_position": null,
            "order": null,
            "overflow": null,
            "overflow_x": null,
            "overflow_y": null,
            "padding": null,
            "right": null,
            "top": null,
            "visibility": null,
            "width": null
          }
        },
        "1c2c5ff6201d4be9a2aa6b485f1e8d88": {
          "model_module": "@jupyter-widgets/base",
          "model_module_version": "1.2.0",
          "model_name": "LayoutModel",
          "state": {
            "_model_module": "@jupyter-widgets/base",
            "_model_module_version": "1.2.0",
            "_model_name": "LayoutModel",
            "_view_count": null,
            "_view_module": "@jupyter-widgets/base",
            "_view_module_version": "1.2.0",
            "_view_name": "LayoutView",
            "align_content": null,
            "align_items": null,
            "align_self": null,
            "border": null,
            "bottom": null,
            "display": null,
            "flex": null,
            "flex_flow": null,
            "grid_area": null,
            "grid_auto_columns": null,
            "grid_auto_flow": null,
            "grid_auto_rows": null,
            "grid_column": null,
            "grid_gap": null,
            "grid_row": null,
            "grid_template_areas": null,
            "grid_template_columns": null,
            "grid_template_rows": null,
            "height": null,
            "justify_content": null,
            "justify_items": null,
            "left": null,
            "margin": null,
            "max_height": null,
            "max_width": null,
            "min_height": null,
            "min_width": null,
            "object_fit": null,
            "object_position": null,
            "order": null,
            "overflow": null,
            "overflow_x": null,
            "overflow_y": null,
            "padding": null,
            "right": null,
            "top": null,
            "visibility": null,
            "width": null
          }
        },
        "1e9df76cd2e848e88fca296667fe34f2": {
          "model_module": "@jupyter-widgets/controls",
          "model_module_version": "1.5.0",
          "model_name": "SliderStyleModel",
          "state": {
            "_model_module": "@jupyter-widgets/controls",
            "_model_module_version": "1.5.0",
            "_model_name": "SliderStyleModel",
            "_view_count": null,
            "_view_module": "@jupyter-widgets/base",
            "_view_module_version": "1.2.0",
            "_view_name": "StyleView",
            "description_width": "",
            "handle_color": null
          }
        },
        "2503b80044844f1097887a07cacbc940": {
          "model_module": "@jupyter-widgets/base",
          "model_module_version": "1.2.0",
          "model_name": "LayoutModel",
          "state": {
            "_model_module": "@jupyter-widgets/base",
            "_model_module_version": "1.2.0",
            "_model_name": "LayoutModel",
            "_view_count": null,
            "_view_module": "@jupyter-widgets/base",
            "_view_module_version": "1.2.0",
            "_view_name": "LayoutView",
            "align_content": null,
            "align_items": null,
            "align_self": null,
            "border": null,
            "bottom": null,
            "display": null,
            "flex": null,
            "flex_flow": null,
            "grid_area": null,
            "grid_auto_columns": null,
            "grid_auto_flow": null,
            "grid_auto_rows": null,
            "grid_column": null,
            "grid_gap": null,
            "grid_row": null,
            "grid_template_areas": null,
            "grid_template_columns": null,
            "grid_template_rows": null,
            "height": null,
            "justify_content": null,
            "justify_items": null,
            "left": null,
            "margin": null,
            "max_height": null,
            "max_width": null,
            "min_height": null,
            "min_width": null,
            "object_fit": null,
            "object_position": null,
            "order": null,
            "overflow": null,
            "overflow_x": null,
            "overflow_y": null,
            "padding": null,
            "right": null,
            "top": null,
            "visibility": null,
            "width": null
          }
        },
        "315c6e94537f46b28372fdfae46691fc": {
          "model_module": "@jupyter-widgets/controls",
          "model_module_version": "1.5.0",
          "model_name": "SliderStyleModel",
          "state": {
            "_model_module": "@jupyter-widgets/controls",
            "_model_module_version": "1.5.0",
            "_model_name": "SliderStyleModel",
            "_view_count": null,
            "_view_module": "@jupyter-widgets/base",
            "_view_module_version": "1.2.0",
            "_view_name": "StyleView",
            "description_width": "",
            "handle_color": null
          }
        },
        "35baf08208a548b9a33b3813b42658cb": {
          "model_module": "@jupyter-widgets/controls",
          "model_module_version": "1.5.0",
          "model_name": "VBoxModel",
          "state": {
            "_dom_classes": [
              "widget-interact"
            ],
            "_model_module": "@jupyter-widgets/controls",
            "_model_module_version": "1.5.0",
            "_model_name": "VBoxModel",
            "_view_count": null,
            "_view_module": "@jupyter-widgets/controls",
            "_view_module_version": "1.5.0",
            "_view_name": "VBoxView",
            "box_style": "",
            "children": [
              "IPY_MODEL_eeb2bc2228dd48c1bd3b7f131e7df6ab",
              "IPY_MODEL_9772ae1f97574e77acb4a21fe933cf44",
              "IPY_MODEL_06245132803a43d5a0ea716991eb1806",
              "IPY_MODEL_8d6531c25ef0471ba2dfb8add6e37288"
            ],
            "layout": "IPY_MODEL_52422af89e7a48098660c71009677779"
          }
        },
        "3d7ce34c0bbb43b1a6289f081f83daf4": {
          "model_module": "@jupyter-widgets/controls",
          "model_module_version": "1.5.0",
          "model_name": "SliderStyleModel",
          "state": {
            "_model_module": "@jupyter-widgets/controls",
            "_model_module_version": "1.5.0",
            "_model_name": "SliderStyleModel",
            "_view_count": null,
            "_view_module": "@jupyter-widgets/base",
            "_view_module_version": "1.2.0",
            "_view_name": "StyleView",
            "description_width": "",
            "handle_color": null
          }
        },
        "45f28c347ff941838c4a8020d38b973d": {
          "model_module": "@jupyter-widgets/controls",
          "model_module_version": "1.5.0",
          "model_name": "SliderStyleModel",
          "state": {
            "_model_module": "@jupyter-widgets/controls",
            "_model_module_version": "1.5.0",
            "_model_name": "SliderStyleModel",
            "_view_count": null,
            "_view_module": "@jupyter-widgets/base",
            "_view_module_version": "1.2.0",
            "_view_name": "StyleView",
            "description_width": "",
            "handle_color": null
          }
        },
        "4e8122f8b0224273b936c294c8dd8ca7": {
          "model_module": "@jupyter-widgets/controls",
          "model_module_version": "1.5.0",
          "model_name": "SliderStyleModel",
          "state": {
            "_model_module": "@jupyter-widgets/controls",
            "_model_module_version": "1.5.0",
            "_model_name": "SliderStyleModel",
            "_view_count": null,
            "_view_module": "@jupyter-widgets/base",
            "_view_module_version": "1.2.0",
            "_view_name": "StyleView",
            "description_width": "",
            "handle_color": null
          }
        },
        "51ef4c7cdb154cc2a99799813e980f93": {
          "model_module": "@jupyter-widgets/base",
          "model_module_version": "1.2.0",
          "model_name": "LayoutModel",
          "state": {
            "_model_module": "@jupyter-widgets/base",
            "_model_module_version": "1.2.0",
            "_model_name": "LayoutModel",
            "_view_count": null,
            "_view_module": "@jupyter-widgets/base",
            "_view_module_version": "1.2.0",
            "_view_name": "LayoutView",
            "align_content": null,
            "align_items": null,
            "align_self": null,
            "border": null,
            "bottom": null,
            "display": null,
            "flex": null,
            "flex_flow": null,
            "grid_area": null,
            "grid_auto_columns": null,
            "grid_auto_flow": null,
            "grid_auto_rows": null,
            "grid_column": null,
            "grid_gap": null,
            "grid_row": null,
            "grid_template_areas": null,
            "grid_template_columns": null,
            "grid_template_rows": null,
            "height": null,
            "justify_content": null,
            "justify_items": null,
            "left": null,
            "margin": null,
            "max_height": null,
            "max_width": null,
            "min_height": null,
            "min_width": null,
            "object_fit": null,
            "object_position": null,
            "order": null,
            "overflow": null,
            "overflow_x": null,
            "overflow_y": null,
            "padding": null,
            "right": null,
            "top": null,
            "visibility": null,
            "width": null
          }
        },
        "52422af89e7a48098660c71009677779": {
          "model_module": "@jupyter-widgets/base",
          "model_module_version": "1.2.0",
          "model_name": "LayoutModel",
          "state": {
            "_model_module": "@jupyter-widgets/base",
            "_model_module_version": "1.2.0",
            "_model_name": "LayoutModel",
            "_view_count": null,
            "_view_module": "@jupyter-widgets/base",
            "_view_module_version": "1.2.0",
            "_view_name": "LayoutView",
            "align_content": null,
            "align_items": null,
            "align_self": null,
            "border": null,
            "bottom": null,
            "display": null,
            "flex": null,
            "flex_flow": null,
            "grid_area": null,
            "grid_auto_columns": null,
            "grid_auto_flow": null,
            "grid_auto_rows": null,
            "grid_column": null,
            "grid_gap": null,
            "grid_row": null,
            "grid_template_areas": null,
            "grid_template_columns": null,
            "grid_template_rows": null,
            "height": null,
            "justify_content": null,
            "justify_items": null,
            "left": null,
            "margin": null,
            "max_height": null,
            "max_width": null,
            "min_height": null,
            "min_width": null,
            "object_fit": null,
            "object_position": null,
            "order": null,
            "overflow": null,
            "overflow_x": null,
            "overflow_y": null,
            "padding": null,
            "right": null,
            "top": null,
            "visibility": null,
            "width": null
          }
        },
        "53c03ff11af041e4b1a0f66d23d83874": {
          "model_module": "@jupyter-widgets/base",
          "model_module_version": "1.2.0",
          "model_name": "LayoutModel",
          "state": {
            "_model_module": "@jupyter-widgets/base",
            "_model_module_version": "1.2.0",
            "_model_name": "LayoutModel",
            "_view_count": null,
            "_view_module": "@jupyter-widgets/base",
            "_view_module_version": "1.2.0",
            "_view_name": "LayoutView",
            "align_content": null,
            "align_items": null,
            "align_self": null,
            "border": null,
            "bottom": null,
            "display": null,
            "flex": null,
            "flex_flow": null,
            "grid_area": null,
            "grid_auto_columns": null,
            "grid_auto_flow": null,
            "grid_auto_rows": null,
            "grid_column": null,
            "grid_gap": null,
            "grid_row": null,
            "grid_template_areas": null,
            "grid_template_columns": null,
            "grid_template_rows": null,
            "height": null,
            "justify_content": null,
            "justify_items": null,
            "left": null,
            "margin": null,
            "max_height": null,
            "max_width": null,
            "min_height": null,
            "min_width": null,
            "object_fit": null,
            "object_position": null,
            "order": null,
            "overflow": null,
            "overflow_x": null,
            "overflow_y": null,
            "padding": null,
            "right": null,
            "top": null,
            "visibility": null,
            "width": null
          }
        },
        "5c144613c99e472bb504420608a0011d": {
          "model_module": "@jupyter-widgets/base",
          "model_module_version": "1.2.0",
          "model_name": "LayoutModel",
          "state": {
            "_model_module": "@jupyter-widgets/base",
            "_model_module_version": "1.2.0",
            "_model_name": "LayoutModel",
            "_view_count": null,
            "_view_module": "@jupyter-widgets/base",
            "_view_module_version": "1.2.0",
            "_view_name": "LayoutView",
            "align_content": null,
            "align_items": null,
            "align_self": null,
            "border": null,
            "bottom": null,
            "display": null,
            "flex": null,
            "flex_flow": null,
            "grid_area": null,
            "grid_auto_columns": null,
            "grid_auto_flow": null,
            "grid_auto_rows": null,
            "grid_column": null,
            "grid_gap": null,
            "grid_row": null,
            "grid_template_areas": null,
            "grid_template_columns": null,
            "grid_template_rows": null,
            "height": null,
            "justify_content": null,
            "justify_items": null,
            "left": null,
            "margin": null,
            "max_height": null,
            "max_width": null,
            "min_height": null,
            "min_width": null,
            "object_fit": null,
            "object_position": null,
            "order": null,
            "overflow": null,
            "overflow_x": null,
            "overflow_y": null,
            "padding": null,
            "right": null,
            "top": null,
            "visibility": null,
            "width": null
          }
        },
        "671bab200b074eaa9196cb5018b985b7": {
          "model_module": "@jupyter-widgets/base",
          "model_module_version": "1.2.0",
          "model_name": "LayoutModel",
          "state": {
            "_model_module": "@jupyter-widgets/base",
            "_model_module_version": "1.2.0",
            "_model_name": "LayoutModel",
            "_view_count": null,
            "_view_module": "@jupyter-widgets/base",
            "_view_module_version": "1.2.0",
            "_view_name": "LayoutView",
            "align_content": null,
            "align_items": null,
            "align_self": null,
            "border": null,
            "bottom": null,
            "display": null,
            "flex": null,
            "flex_flow": null,
            "grid_area": null,
            "grid_auto_columns": null,
            "grid_auto_flow": null,
            "grid_auto_rows": null,
            "grid_column": null,
            "grid_gap": null,
            "grid_row": null,
            "grid_template_areas": null,
            "grid_template_columns": null,
            "grid_template_rows": null,
            "height": null,
            "justify_content": null,
            "justify_items": null,
            "left": null,
            "margin": null,
            "max_height": null,
            "max_width": null,
            "min_height": null,
            "min_width": null,
            "object_fit": null,
            "object_position": null,
            "order": null,
            "overflow": null,
            "overflow_x": null,
            "overflow_y": null,
            "padding": null,
            "right": null,
            "top": null,
            "visibility": null,
            "width": null
          }
        },
        "749e62427cef4fa3a96dbeed0aceabdf": {
          "model_module": "@jupyter-widgets/base",
          "model_module_version": "1.2.0",
          "model_name": "LayoutModel",
          "state": {
            "_model_module": "@jupyter-widgets/base",
            "_model_module_version": "1.2.0",
            "_model_name": "LayoutModel",
            "_view_count": null,
            "_view_module": "@jupyter-widgets/base",
            "_view_module_version": "1.2.0",
            "_view_name": "LayoutView",
            "align_content": null,
            "align_items": null,
            "align_self": null,
            "border": null,
            "bottom": null,
            "display": null,
            "flex": null,
            "flex_flow": null,
            "grid_area": null,
            "grid_auto_columns": null,
            "grid_auto_flow": null,
            "grid_auto_rows": null,
            "grid_column": null,
            "grid_gap": null,
            "grid_row": null,
            "grid_template_areas": null,
            "grid_template_columns": null,
            "grid_template_rows": null,
            "height": null,
            "justify_content": null,
            "justify_items": null,
            "left": null,
            "margin": null,
            "max_height": null,
            "max_width": null,
            "min_height": null,
            "min_width": null,
            "object_fit": null,
            "object_position": null,
            "order": null,
            "overflow": null,
            "overflow_x": null,
            "overflow_y": null,
            "padding": null,
            "right": null,
            "top": null,
            "visibility": null,
            "width": null
          }
        },
        "7951666b490645cf8000f3b37dac58cb": {
          "model_module": "@jupyter-widgets/base",
          "model_module_version": "1.2.0",
          "model_name": "LayoutModel",
          "state": {
            "_model_module": "@jupyter-widgets/base",
            "_model_module_version": "1.2.0",
            "_model_name": "LayoutModel",
            "_view_count": null,
            "_view_module": "@jupyter-widgets/base",
            "_view_module_version": "1.2.0",
            "_view_name": "LayoutView",
            "align_content": null,
            "align_items": null,
            "align_self": null,
            "border": null,
            "bottom": null,
            "display": null,
            "flex": null,
            "flex_flow": null,
            "grid_area": null,
            "grid_auto_columns": null,
            "grid_auto_flow": null,
            "grid_auto_rows": null,
            "grid_column": null,
            "grid_gap": null,
            "grid_row": null,
            "grid_template_areas": null,
            "grid_template_columns": null,
            "grid_template_rows": null,
            "height": null,
            "justify_content": null,
            "justify_items": null,
            "left": null,
            "margin": null,
            "max_height": null,
            "max_width": null,
            "min_height": null,
            "min_width": null,
            "object_fit": null,
            "object_position": null,
            "order": null,
            "overflow": null,
            "overflow_x": null,
            "overflow_y": null,
            "padding": null,
            "right": null,
            "top": null,
            "visibility": null,
            "width": null
          }
        },
        "7e1e47b107e346dd916a18f9cbe60eaa": {
          "model_module": "@jupyter-widgets/controls",
          "model_module_version": "1.5.0",
          "model_name": "VBoxModel",
          "state": {
            "_dom_classes": [
              "widget-interact"
            ],
            "_model_module": "@jupyter-widgets/controls",
            "_model_module_version": "1.5.0",
            "_model_name": "VBoxModel",
            "_view_count": null,
            "_view_module": "@jupyter-widgets/controls",
            "_view_module_version": "1.5.0",
            "_view_name": "VBoxView",
            "box_style": "",
            "children": [
              "IPY_MODEL_c3e5e5fecd274f9caa15880f7e89a998",
              "IPY_MODEL_07e6010067054a5d83317d52aaa218bb",
              "IPY_MODEL_f0ed456bd7ce401b8a268d54be97cb9e",
              "IPY_MODEL_e7e673692f7e456c9716b12c10f7a346"
            ],
            "layout": "IPY_MODEL_749e62427cef4fa3a96dbeed0aceabdf"
          }
        },
        "8ba2583dd6384d0b9cc925c123661a57": {
          "model_module": "@jupyter-widgets/controls",
          "model_module_version": "1.5.0",
          "model_name": "SliderStyleModel",
          "state": {
            "_model_module": "@jupyter-widgets/controls",
            "_model_module_version": "1.5.0",
            "_model_name": "SliderStyleModel",
            "_view_count": null,
            "_view_module": "@jupyter-widgets/base",
            "_view_module_version": "1.2.0",
            "_view_name": "StyleView",
            "description_width": "",
            "handle_color": null
          }
        },
        "8d6531c25ef0471ba2dfb8add6e37288": {
          "model_module": "@jupyter-widgets/output",
          "model_module_version": "1.0.0",
          "model_name": "OutputModel",
          "state": {
            "_dom_classes": [],
            "_model_module": "@jupyter-widgets/output",
            "_model_module_version": "1.0.0",
            "_model_name": "OutputModel",
            "_view_count": null,
            "_view_module": "@jupyter-widgets/output",
            "_view_module_version": "1.0.0",
            "_view_name": "OutputView",
            "layout": "IPY_MODEL_1c2c5ff6201d4be9a2aa6b485f1e8d88",
            "msg_id": "",
            "outputs": []
          }
        },
        "9772ae1f97574e77acb4a21fe933cf44": {
          "model_module": "@jupyter-widgets/controls",
          "model_module_version": "1.5.0",
          "model_name": "FloatSliderModel",
          "state": {
            "_dom_classes": [],
            "_model_module": "@jupyter-widgets/controls",
            "_model_module_version": "1.5.0",
            "_model_name": "FloatSliderModel",
            "_view_count": null,
            "_view_module": "@jupyter-widgets/controls",
            "_view_module_version": "1.5.0",
            "_view_name": "FloatSliderView",
            "continuous_update": true,
            "description": "b",
            "description_tooltip": null,
            "disabled": false,
            "layout": "IPY_MODEL_53c03ff11af041e4b1a0f66d23d83874",
            "max": 10,
            "min": -10,
            "orientation": "horizontal",
            "readout": true,
            "readout_format": ".2f",
            "step": 0.1,
            "style": "IPY_MODEL_315c6e94537f46b28372fdfae46691fc",
            "value": 1.5
          }
        },
        "c3e5e5fecd274f9caa15880f7e89a998": {
          "model_module": "@jupyter-widgets/controls",
          "model_module_version": "1.5.0",
          "model_name": "FloatSliderModel",
          "state": {
            "_dom_classes": [],
            "_model_module": "@jupyter-widgets/controls",
            "_model_module_version": "1.5.0",
            "_model_name": "FloatSliderModel",
            "_view_count": null,
            "_view_module": "@jupyter-widgets/controls",
            "_view_module_version": "1.5.0",
            "_view_name": "FloatSliderView",
            "continuous_update": true,
            "description": "a",
            "description_tooltip": null,
            "disabled": false,
            "layout": "IPY_MODEL_15b23431ed504f37b806182c58cae689",
            "max": 10,
            "min": -10,
            "orientation": "horizontal",
            "readout": true,
            "readout_format": ".2f",
            "step": 0.1,
            "style": "IPY_MODEL_1e9df76cd2e848e88fca296667fe34f2",
            "value": 3
          }
        },
        "e7e673692f7e456c9716b12c10f7a346": {
          "model_module": "@jupyter-widgets/output",
          "model_module_version": "1.0.0",
          "model_name": "OutputModel",
          "state": {
            "_dom_classes": [],
            "_model_module": "@jupyter-widgets/output",
            "_model_module_version": "1.0.0",
            "_model_name": "OutputModel",
            "_view_count": null,
            "_view_module": "@jupyter-widgets/output",
            "_view_module_version": "1.0.0",
            "_view_name": "OutputView",
            "layout": "IPY_MODEL_5c144613c99e472bb504420608a0011d",
            "msg_id": "",
            "outputs": [
              {
                "data": {
                  "image/png": "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\n",
                  "text/plain": "<Figure size 720x540 with 1 Axes>"
                },
                "metadata": {},
                "output_type": "display_data"
              }
            ]
          }
        },
        "eeb2bc2228dd48c1bd3b7f131e7df6ab": {
          "model_module": "@jupyter-widgets/controls",
          "model_module_version": "1.5.0",
          "model_name": "FloatSliderModel",
          "state": {
            "_dom_classes": [],
            "_model_module": "@jupyter-widgets/controls",
            "_model_module_version": "1.5.0",
            "_model_name": "FloatSliderModel",
            "_view_count": null,
            "_view_module": "@jupyter-widgets/controls",
            "_view_module_version": "1.5.0",
            "_view_name": "FloatSliderView",
            "continuous_update": true,
            "description": "a",
            "description_tooltip": null,
            "disabled": false,
            "layout": "IPY_MODEL_51ef4c7cdb154cc2a99799813e980f93",
            "max": 10,
            "min": -10,
            "orientation": "horizontal",
            "readout": true,
            "readout_format": ".2f",
            "step": 0.1,
            "style": "IPY_MODEL_45f28c347ff941838c4a8020d38b973d",
            "value": 3
          }
        },
        "f0ed456bd7ce401b8a268d54be97cb9e": {
          "model_module": "@jupyter-widgets/controls",
          "model_module_version": "1.5.0",
          "model_name": "FloatSliderModel",
          "state": {
            "_dom_classes": [],
            "_model_module": "@jupyter-widgets/controls",
            "_model_module_version": "1.5.0",
            "_model_name": "FloatSliderModel",
            "_view_count": null,
            "_view_module": "@jupyter-widgets/controls",
            "_view_module_version": "1.5.0",
            "_view_name": "FloatSliderView",
            "continuous_update": true,
            "description": "c",
            "description_tooltip": null,
            "disabled": false,
            "layout": "IPY_MODEL_671bab200b074eaa9196cb5018b985b7",
            "max": 10,
            "min": -10,
            "orientation": "horizontal",
            "readout": true,
            "readout_format": ".2f",
            "step": 0.1,
            "style": "IPY_MODEL_8ba2583dd6384d0b9cc925c123661a57",
            "value": 1
          }
        }
      }
    }
  },
  "nbformat": 4,
  "nbformat_minor": 0
}
